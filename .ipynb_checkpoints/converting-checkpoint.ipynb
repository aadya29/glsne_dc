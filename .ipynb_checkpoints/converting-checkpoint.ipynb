{
 "cells": [
  {
   "cell_type": "code",
   "execution_count": 19,
   "id": "abee2bac-1dcc-4f10-b243-acf7a550932a",
   "metadata": {},
   "outputs": [],
   "source": [
    "import bayesn\n",
    "import bayesn.bayesn_io as io\n",
    "import numpy as np\n",
    "from astropy.table import Table\n",
    "from astropy.io import fits\n",
    "from astropy.cosmology import FlatLambdaCDM\n",
    "import astropy.units as u\n",
    "from dustmaps.sfd import SFDQuery\n",
    "from astropy.coordinates import SkyCoord\n",
    "from tqdm import tqdm\n",
    "import os"
   ]
  },
  {
   "cell_type": "code",
   "execution_count": 34,
   "id": "fc39e7d5-b539-49b0-89aa-f6c893563ef2",
   "metadata": {},
   "outputs": [],
   "source": [
    "head_table = Table(fits.open(f\"/global/cfs/cdirs/lsst/www/jolteon/data/FINAL2/JOLTEON_FINAL_0000_HEAD.FITS\")[1].data)\n",
    "phot_table = Table(fits.open(f\"/global/cfs/cdirs/lsst/www/jolteon/data/FINAL2/JOLTEON_FINAL_0000_PHOT.FITS\")[1].data)"
   ]
  },
  {
   "cell_type": "code",
   "execution_count": 35,
   "id": "3c402330-928a-4687-b72e-557b9d2b6d0c",
   "metadata": {},
   "outputs": [
    {
     "name": "stdout",
     "output_type": "stream",
     "text": [
      "HEAD columns: ['SNID', 'RA', 'DEC', 'MWEBV', 'MWEBV_ERR', 'SPECZ', 'SPECZ_ERR', 'PHOTOZ', 'PHOTOZ_ERR', 'NOBS', 'MJD_DETECT_FIRST', 'MJD_DETECT_LAST', 'PTROBS_MIN', 'PTROBS_MAX', 'LABEL']\n",
      "PHOT columns: ['MJD', 'BAND', 'FLUXCAL', 'FLUXCALERR', 'SKY_SIG', 'PSF', 'ZEROPT', 'SIM_MAGOBS']\n"
     ]
    }
   ],
   "source": [
    "print(\"HEAD columns:\", head_table.colnames)\n",
    "print(\"PHOT columns:\", phot_table.colnames)\n",
    "output_dir = 'jolteon_lc'\n",
    "\n",
    "allowed_labels = ['SNIa-SALT3', 'glSNIa_ASM']\n",
    "filter_mask = False\n",
    "for label in allowed_labels:\n",
    "    filter_mask = filter_mask | (head_table['LABEL'] == label)\n",
    "\n",
    "head_table = head_table[filter_mask]"
   ]
  },
  {
   "cell_type": "code",
   "execution_count": 25,
   "id": "794717a2-f256-46e5-900b-777024011281",
   "metadata": {},
   "outputs": [
    {
     "name": "stdout",
     "output_type": "stream",
     "text": [
      "<class 'astropy.table.table.Table'>\n"
     ]
    }
   ],
   "source": [
    "ptr_min = head_table[0]['PTROBS_MIN']\n",
    "ptr_max = head_table[0]['PTROBS_MAX']\n",
    "lc = phot_table[ptr_min-1:ptr_max]\n",
    "flt = lc['BAND']\n",
    "print(type(lc))"
   ]
  },
  {
   "cell_type": "code",
   "execution_count": 36,
   "id": "8b718444-30ae-4107-882c-ff0f3be41370",
   "metadata": {},
   "outputs": [
    {
     "name": "stdout",
     "output_type": "stream",
     "text": [
      "100001.snana.dat\n",
      "100011.snana.dat\n",
      "100012.snana.dat\n",
      "100013.snana.dat\n",
      "100015.snana.dat\n"
     ]
    }
   ],
   "source": [
    "filt_map = {'g': 'g_LSST', 'r': 'r_LSST', 'i': 'i_LSST', 'z': 'z_LSST', 'u': 'u_LSST'}\n",
    "\n",
    "snid_list = []\n",
    "peak_mjd_list = []\n",
    "z_cmb_list = []\n",
    "z_cmb_err_list = []\n",
    "files_list = []\n",
    "\n",
    "for idx in range(5):\n",
    "    snid = str(head_table[idx]['SNID'])\n",
    "    label = head_table[idx]['LABEL']\n",
    "    ra = head_table[idx]['RA']\n",
    "    dec = head_table[idx]['DEC']\n",
    "    ptr_min = head_table[idx]['PTROBS_MIN']\n",
    "    ptr_max = head_table[idx]['PTROBS_MAX']\n",
    "    lc = phot_table[ptr_min-1:ptr_max]\n",
    "    peak_mjd = lc['MJD'][lc['SIM_MAGOBS'].argmin()]\n",
    "    photoz = head_table[idx]['PHOTOZ']\n",
    "    photoz_err = head_table[idx]['PHOTOZ_ERR']\n",
    "    specz = head_table[idx]['SPECZ']\n",
    "    specz_err = head_table[idx]['SPECZ_ERR']\n",
    "\n",
    "    relative_mjd = lc['MJD'] - peak_mjd\n",
    "    time_window_mask = (relative_mjd >= -20) & (relative_mjd <= 50)\n",
    "    lc = lc[time_window_mask]\n",
    "    mjd = lc['MJD']\n",
    "    \n",
    "    lc = lc.to_pandas()\n",
    "    mapped_filt_b = [filt_map.get(f, f) for f in lc['BAND']]\n",
    "    lc['BAND'] = mapped_filt_b\n",
    "    lc = Table.from_pandas(lc)\n",
    "    flt = lc['BAND']\n",
    "    \n",
    "    coords_sn = SkyCoord(ra * u.deg, dec * u.deg, frame='icrs')\n",
    "    sfd_query = SFDQuery() \n",
    "    mw_ebv = sfd_query(coords_sn)\n",
    "    m = -2.5 * np.log10(lc['FLUXCAL']) + 27.5\n",
    "    dm = np.abs(-2.5 * lc['FLUXCALERR'] / (np.log(10) * lc['FLUXCAL']))\n",
    "\n",
    "    name = io.write_snana_lcfile(output_dir, snid, mjd, flt, m, dm, peak_mjd, photoz, photoz, photoz_err, mw_ebv)\n",
    "    snid_list.append(snid)\n",
    "    peak_mjd_list.append(peak_mjd)\n",
    "    z_cmb_list.append(photoz)\n",
    "    z_cmb_err_list.append(photoz_err)\n",
    "    files_list.append(name)\n",
    "    print(name)"
   ]
  },
  {
   "cell_type": "code",
   "execution_count": 29,
   "id": "abbf5192-7251-496c-a74c-12a4cb107af0",
   "metadata": {},
   "outputs": [
    {
     "name": "stdout",
     "output_type": "stream",
     "text": [
      "['100001', '100002', '100003', '100004', '100005'] [61706.2729, 61064.0999, 61389.1903, 61718.1912, 61831.3074] [0.11310538082081621, 0.9609922530062541, 0.10067513444293848, 0.6722085478447766, 0.9649188646901088] [0.054902874, 0.123472944, 0.048860025, 0.028378284, 0.03728399] ['100001.snana.dat', '100002.snana.dat', '100003.snana.dat', '100004.snana.dat', '100005.snana.dat']\n"
     ]
    }
   ],
   "source": [
    "cols = ['SNID', 'SEARCH_PEAKMJD', 'REDSHIFT_CMB', 'REDSHIFT_CMB_ERR', 'files']\n",
    "print(snid_list,\n",
    "    peak_mjd_list,\n",
    "    z_cmb_list,\n",
    "    z_cmb_err_list,\n",
    "    files_list,)"
   ]
  },
  {
   "cell_type": "code",
   "execution_count": 37,
   "id": "834b284b-4724-4709-93ef-0bcc501f0798",
   "metadata": {},
   "outputs": [
    {
     "name": "stdout",
     "output_type": "stream",
     "text": [
      "File 'jolteon_lc/data_table.txt' created successfully.\n"
     ]
    }
   ],
   "source": [
    "output_directory = \"jolteon_lc\"  \n",
    "os.makedirs(output_directory, exist_ok=True)\n",
    "output_filename = os.path.join(output_directory, \"data_table.txt\")\n",
    "\n",
    "with open(output_filename, 'w') as f:\n",
    "    f.write(\"SNID SEARCH_PEAKMJD REDSHIFT_CMB REDSHIFT_CMB_ERR files\\n\")\n",
    "\n",
    "    for i in range(len(snid_list)):\n",
    "        snid = snid_list[i]\n",
    "        peak_mjd = peak_mjd_list[i]\n",
    "        z_cmb = z_cmb_list[i]\n",
    "        z_cmb_err = z_cmb_err_list[i]\n",
    "        files = files_list[i] \n",
    "        line = f\"{snid} {peak_mjd:.2f} {z_cmb:.2f} {z_cmb_err:.4f} {files}\\n\"\n",
    "        f.write(line)\n",
    "\n",
    "print(f\"File '{output_filename}' created successfully.\")"
   ]
  },
  {
   "cell_type": "code",
   "execution_count": 18,
   "id": "25247cad-f70a-46d2-a144-20b5f8ac16e8",
   "metadata": {},
   "outputs": [
    {
     "data": {
      "text/plain": [
       "'/global/u2/r/rayliang/LSST_GLSNe/glsne_dc'"
      ]
     },
     "execution_count": 18,
     "metadata": {},
     "output_type": "execute_result"
    }
   ],
   "source": []
  },
  {
   "cell_type": "code",
   "execution_count": null,
   "id": "2398079a-907a-4f7b-b19a-c228cfcb81c8",
   "metadata": {},
   "outputs": [],
   "source": []
  }
 ],
 "metadata": {
  "kernelspec": {
   "display_name": "jolteon",
   "language": "python",
   "name": "jolteon"
  },
  "language_info": {
   "codemirror_mode": {
    "name": "ipython",
    "version": 3
   },
   "file_extension": ".py",
   "mimetype": "text/x-python",
   "name": "python",
   "nbconvert_exporter": "python",
   "pygments_lexer": "ipython3",
   "version": "3.10.17"
  }
 },
 "nbformat": 4,
 "nbformat_minor": 5
}
